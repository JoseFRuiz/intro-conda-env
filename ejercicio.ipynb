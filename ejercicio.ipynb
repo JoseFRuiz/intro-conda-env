{
 "cells": [
  {
   "cell_type": "markdown",
   "id": "05e8b411",
   "metadata": {},
   "source": [
    "# Realizar el ejercicio de cuaderno aquí"
   ]
  },
  {
   "cell_type": "code",
   "execution_count": null,
   "id": "81fa294d",
   "metadata": {
    "vscode": {
     "languageId": "plaintext"
    }
   },
   "outputs": [],
   "source": []
  }
 ],
 "metadata": {
  "language_info": {
   "name": "python"
  }
 },
 "nbformat": 4,
 "nbformat_minor": 5
}
